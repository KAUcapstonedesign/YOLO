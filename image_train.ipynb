{
  "nbformat": 4,
  "nbformat_minor": 0,
  "metadata": {
    "colab": {
      "provenance": [],
      "gpuType": "T4",
      "mount_file_id": "1BptlcEP9uhL896ZPuBw3EPbOk3Dz4aFn",
      "authorship_tag": "ABX9TyN5Tz86mQpeKc6JE0hCySLQ",
      "include_colab_link": true
    },
    "kernelspec": {
      "name": "python3",
      "display_name": "Python 3"
    },
    "language_info": {
      "name": "python"
    },
    "accelerator": "GPU"
  },
  "cells": [
    {
      "cell_type": "markdown",
      "metadata": {
        "id": "view-in-github",
        "colab_type": "text"
      },
      "source": [
        "<a href=\"https://colab.research.google.com/github/KAUcapstonedesign/YOLO/blob/main/image_train.ipynb\" target=\"_parent\"><img src=\"https://colab.research.google.com/assets/colab-badge.svg\" alt=\"Open In Colab\"/></a>"
      ]
    },
    {
      "cell_type": "markdown",
      "source": [
        "###**Basic settings**"
      ],
      "metadata": {
        "id": "5nIH1sxkFF7I"
      }
    },
    {
      "cell_type": "code",
      "source": [
        "# GPU 상태 확인\n",
        "from tensorflow.python.client import device_lib\n",
        "device_lib.list_local_devices()"
      ],
      "metadata": {
        "colab": {
          "base_uri": "https://localhost:8080/"
        },
        "id": "YkDEF1kvGIfP",
        "outputId": "2a9dc9ed-8500-493a-a970-eb100d7c4bd9"
      },
      "execution_count": 24,
      "outputs": [
        {
          "output_type": "execute_result",
          "data": {
            "text/plain": [
              "[name: \"/device:CPU:0\"\n",
              " device_type: \"CPU\"\n",
              " memory_limit: 268435456\n",
              " locality {\n",
              " }\n",
              " incarnation: 17428361926352939077\n",
              " xla_global_id: -1,\n",
              " name: \"/device:GPU:0\"\n",
              " device_type: \"GPU\"\n",
              " memory_limit: 13854638080\n",
              " locality {\n",
              "   bus_id: 1\n",
              "   links {\n",
              "   }\n",
              " }\n",
              " incarnation: 995931438827558587\n",
              " physical_device_desc: \"device: 0, name: Tesla T4, pci bus id: 0000:00:04.0, compute capability: 7.5\"\n",
              " xla_global_id: 416903419]"
            ]
          },
          "metadata": {},
          "execution_count": 24
        }
      ]
    },
    {
      "cell_type": "code",
      "source": [
        "# google drive 마운트\n",
        "from google.colab import drive\n",
        "drive.mount('/content/drive')"
      ],
      "metadata": {
        "id": "uHsIuj3YFKSJ"
      },
      "execution_count": null,
      "outputs": []
    },
    {
      "cell_type": "code",
      "source": [
        "# data.zip 파일 압축 해제\n",
        "!unzip /content/drive/MyDrive/data.zip -d /content/drive/\"My Drive\"/"
      ],
      "metadata": {
        "id": "4HyAWOQnFQ8l"
      },
      "execution_count": null,
      "outputs": []
    },
    {
      "cell_type": "markdown",
      "source": [
        "### **Install YOLOv5**"
      ],
      "metadata": {
        "id": "j_aEU3U_9c-T"
      }
    },
    {
      "cell_type": "code",
      "source": [
        "# 현재 경로 확인\n",
        "!pwd"
      ],
      "metadata": {
        "id": "hQR0-eIhB0q_"
      },
      "execution_count": null,
      "outputs": []
    },
    {
      "cell_type": "code",
      "execution_count": null,
      "metadata": {
        "id": "vUe5p5yD4RZo"
      },
      "outputs": [],
      "source": [
        "# 경로 설정\n",
        "%cd /content/drive/MyDrive/\n",
        "# yolov5 다운로드\n",
        "!pip install yolov5"
      ]
    },
    {
      "cell_type": "code",
      "source": [
        "# clone YOLOv5 repository\n",
        "!git clone https://github.com/ultralytics/yolov5  # clone repo\n",
        "%cd yolov5\n",
        "!git reset --hard fbe67e465375231474a2ad80a4389efc77ecff99"
      ],
      "metadata": {
        "id": "I3KiqNEzdnAD"
      },
      "execution_count": null,
      "outputs": []
    },
    {
      "cell_type": "code",
      "source": [
        "# 파일 저장 경로 설정\n",
        "%cd /content/drive/MyDrive/\n",
        "!git clone https://github.com/ultralytics/yolov5  # 최초 설치 시에만 필요\n",
        "%cd yolov5\n",
        "# 업데이트\n",
        "!git pull"
      ],
      "metadata": {
        "id": "sVEFWsWkv7SH"
      },
      "execution_count": null,
      "outputs": []
    },
    {
      "cell_type": "code",
      "source": [
        "%cd /content/drive/MyDrive/yolov5/\n",
        "!pip install -r requirements.txt\n",
        "import torch\n",
        "\n",
        "from IPython.display import Image, clear_output  # to display images\n",
        "from utils.downloads import attempt_download  # to download models/datasets\n",
        "\n",
        "# clear_output()\n",
        "print('Setup complete. Using torch %s %s' % (torch.__version__, torch.cuda.get_device_properties(0) if torch.cuda.is_available() else 'CPU'))"
      ],
      "metadata": {
        "id": "zzHHar4T-9pR"
      },
      "execution_count": null,
      "outputs": []
    },
    {
      "cell_type": "markdown",
      "source": [
        "###**Erase folder**"
      ],
      "metadata": {
        "id": "Atzf0B2sBZM1"
      }
    },
    {
      "cell_type": "code",
      "source": [
        "import shutil\n",
        "shutil.rmtree('/content/yolov5')"
      ],
      "metadata": {
        "id": "gUr2o7ZiBEGN"
      },
      "execution_count": 19,
      "outputs": []
    },
    {
      "cell_type": "markdown",
      "source": [
        "###**Train**"
      ],
      "metadata": {
        "id": "FtWlqpyvNsBl"
      }
    },
    {
      "cell_type": "code",
      "source": [
        "# 학습 데이터의 경로, 클래스 개수 및 종류가 적혀 있는 yaml 파일 제작\n",
        "import yaml\n",
        "\n",
        "with open(\"/content/drive/MyDrive/data/data.yaml\", 'r') as f:\n",
        "  data = yaml.load(f, Loader=yaml.FullLoader)\n",
        "\n",
        "data['train'] = \"/content/drive/MyDrive/data/\"\n",
        "data['test'] = \"/content/drive/MyDrive/data/\"\n",
        "data['val'] = \"/content/drive/MyDrive/data/\"\n",
        "\n",
        "with open(\"/content/drive/MyDrive/data/data.yaml\", 'w') as f:\n",
        "  yaml.dump(data, f)"
      ],
      "metadata": {
        "id": "_SelAETRNvGL"
      },
      "execution_count": null,
      "outputs": []
    },
    {
      "cell_type": "code",
      "source": [
        "# 학습\n",
        "%cd /content/drive/MyDrive/\n",
        "!python /content/drive/MyDrive/yolov5/train.py --epochs 50 --data /content/drive/MyDrive/data/data.yaml --name first_time"
      ],
      "metadata": {
        "id": "Tzv6lDu9O18q"
      },
      "execution_count": null,
      "outputs": []
    }
  ]
}