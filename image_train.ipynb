{
  "nbformat": 4,
  "nbformat_minor": 0,
  "metadata": {
    "colab": {
      "provenance": [],
      "gpuType": "T4",
      "mount_file_id": "1BptlcEP9uhL896ZPuBw3EPbOk3Dz4aFn",
      "authorship_tag": "ABX9TyMa/7EqVcXo0f98xMUupXLh",
      "include_colab_link": true
    },
    "kernelspec": {
      "name": "python3",
      "display_name": "Python 3"
    },
    "language_info": {
      "name": "python"
    },
    "accelerator": "GPU"
  },
  "cells": [
    {
      "cell_type": "markdown",
      "metadata": {
        "id": "view-in-github",
        "colab_type": "text"
      },
      "source": [
        "<a href=\"https://colab.research.google.com/github/KAUcapstonedesign/YOLO/blob/main/image_train.ipynb\" target=\"_parent\"><img src=\"https://colab.research.google.com/assets/colab-badge.svg\" alt=\"Open In Colab\"/></a>"
      ]
    },
    {
      "cell_type": "markdown",
      "source": [
        "###**Basic settings**"
      ],
      "metadata": {
        "id": "5nIH1sxkFF7I"
      }
    },
    {
      "cell_type": "code",
      "source": [
        "# GPU 상태 확인\n",
        "from tensorflow.python.client import device_lib\n",
        "device_lib.list_local_devices()"
      ],
      "metadata": {
        "colab": {
          "base_uri": "https://localhost:8080/"
        },
        "id": "YkDEF1kvGIfP",
        "outputId": "d08c7656-fd03-44b0-895a-81ff98bac6cd"
      },
      "execution_count": 13,
      "outputs": [
        {
          "output_type": "execute_result",
          "data": {
            "text/plain": [
              "[name: \"/device:CPU:0\"\n",
              " device_type: \"CPU\"\n",
              " memory_limit: 268435456\n",
              " locality {\n",
              " }\n",
              " incarnation: 4975100972978099969\n",
              " xla_global_id: -1,\n",
              " name: \"/device:GPU:0\"\n",
              " device_type: \"GPU\"\n",
              " memory_limit: 13854638080\n",
              " locality {\n",
              "   bus_id: 1\n",
              "   links {\n",
              "   }\n",
              " }\n",
              " incarnation: 17138676310303479968\n",
              " physical_device_desc: \"device: 0, name: Tesla T4, pci bus id: 0000:00:04.0, compute capability: 7.5\"\n",
              " xla_global_id: 416903419]"
            ]
          },
          "metadata": {},
          "execution_count": 13
        }
      ]
    },
    {
      "cell_type": "code",
      "source": [
        "# google drive 마운트\n",
        "from google.colab import drive\n",
        "drive.mount('/content/drive')"
      ],
      "metadata": {
        "id": "uHsIuj3YFKSJ"
      },
      "execution_count": null,
      "outputs": []
    },
    {
      "cell_type": "code",
      "source": [
        "# dataset 파일 압축 해제\n",
        "!unzip /content/drive/MyDrive/data.zip -d /content/drive/\"My Drive\"/"
      ],
      "metadata": {
        "colab": {
          "base_uri": "https://localhost:8080/"
        },
        "id": "4HyAWOQnFQ8l",
        "outputId": "7a06dad0-695a-4c0b-c6cc-ff79c2c61c1d"
      },
      "execution_count": 15,
      "outputs": [
        {
          "output_type": "stream",
          "name": "stdout",
          "text": [
            "Archive:  /content/drive/MyDrive/data.zip\n",
            "  inflating: /content/drive/My Drive/data/data.yaml  \n",
            "   creating: /content/drive/My Drive/data/test/\n",
            "   creating: /content/drive/My Drive/data/test/images/\n",
            " extracting: /content/drive/My Drive/data/test/images/User.0.100.jpg  \n",
            " extracting: /content/drive/My Drive/data/test/images/User.0.91.jpg  \n",
            " extracting: /content/drive/My Drive/data/test/images/User.0.92.jpg  \n",
            " extracting: /content/drive/My Drive/data/test/images/User.0.93.jpg  \n",
            " extracting: /content/drive/My Drive/data/test/images/User.0.94.jpg  \n",
            " extracting: /content/drive/My Drive/data/test/images/User.0.95.jpg  \n",
            " extracting: /content/drive/My Drive/data/test/images/User.0.96.jpg  \n",
            " extracting: /content/drive/My Drive/data/test/images/User.0.97.jpg  \n",
            " extracting: /content/drive/My Drive/data/test/images/User.0.98.jpg  \n",
            " extracting: /content/drive/My Drive/data/test/images/User.0.99.jpg  \n",
            " extracting: /content/drive/My Drive/data/test/images/User.1.100.jpg  \n",
            " extracting: /content/drive/My Drive/data/test/images/User.1.91.jpg  \n",
            " extracting: /content/drive/My Drive/data/test/images/User.1.92.jpg  \n",
            " extracting: /content/drive/My Drive/data/test/images/User.1.93.jpg  \n",
            " extracting: /content/drive/My Drive/data/test/images/User.1.94.jpg  \n",
            "  inflating: /content/drive/My Drive/data/test/images/User.1.95.jpg  \n",
            " extracting: /content/drive/My Drive/data/test/images/User.1.96.jpg  \n",
            " extracting: /content/drive/My Drive/data/test/images/User.1.97.jpg  \n",
            " extracting: /content/drive/My Drive/data/test/images/User.1.98.jpg  \n",
            " extracting: /content/drive/My Drive/data/test/images/User.1.99.jpg  \n",
            " extracting: /content/drive/My Drive/data/test/images/User.2.100.jpg  \n",
            " extracting: /content/drive/My Drive/data/test/images/User.2.91.jpg  \n",
            " extracting: /content/drive/My Drive/data/test/images/User.2.92.jpg  \n",
            " extracting: /content/drive/My Drive/data/test/images/User.2.93.jpg  \n",
            " extracting: /content/drive/My Drive/data/test/images/User.2.94.jpg  \n",
            " extracting: /content/drive/My Drive/data/test/images/User.2.95.jpg  \n",
            "  inflating: /content/drive/My Drive/data/test/images/User.2.96.jpg  \n",
            " extracting: /content/drive/My Drive/data/test/images/User.2.97.jpg  \n",
            "  inflating: /content/drive/My Drive/data/test/images/User.2.98.jpg  \n",
            " extracting: /content/drive/My Drive/data/test/images/User.2.99.jpg  \n",
            " extracting: /content/drive/My Drive/data/test/images/User.3.100.jpg  \n",
            " extracting: /content/drive/My Drive/data/test/images/User.3.91.jpg  \n",
            " extracting: /content/drive/My Drive/data/test/images/User.3.92.jpg  \n",
            " extracting: /content/drive/My Drive/data/test/images/User.3.93.jpg  \n",
            " extracting: /content/drive/My Drive/data/test/images/User.3.94.jpg  \n",
            " extracting: /content/drive/My Drive/data/test/images/User.3.95.jpg  \n",
            " extracting: /content/drive/My Drive/data/test/images/User.3.96.jpg  \n",
            " extracting: /content/drive/My Drive/data/test/images/User.3.97.jpg  \n",
            " extracting: /content/drive/My Drive/data/test/images/User.3.98.jpg  \n",
            " extracting: /content/drive/My Drive/data/test/images/User.3.99.jpg  \n",
            "   creating: /content/drive/My Drive/data/train/\n",
            "   creating: /content/drive/My Drive/data/train/images/\n",
            " extracting: /content/drive/My Drive/data/train/images/User.0.1.jpg  \n",
            " extracting: /content/drive/My Drive/data/train/images/User.0.10.jpg  \n",
            " extracting: /content/drive/My Drive/data/train/images/User.0.11.jpg  \n",
            " extracting: /content/drive/My Drive/data/train/images/User.0.12.jpg  \n",
            " extracting: /content/drive/My Drive/data/train/images/User.0.13.jpg  \n",
            " extracting: /content/drive/My Drive/data/train/images/User.0.14.jpg  \n",
            " extracting: /content/drive/My Drive/data/train/images/User.0.15.jpg  \n",
            "  inflating: /content/drive/My Drive/data/train/images/User.0.16.jpg  \n",
            " extracting: /content/drive/My Drive/data/train/images/User.0.17.jpg  \n",
            " extracting: /content/drive/My Drive/data/train/images/User.0.18.jpg  \n",
            " extracting: /content/drive/My Drive/data/train/images/User.0.19.jpg  \n",
            " extracting: /content/drive/My Drive/data/train/images/User.0.2.jpg  \n",
            " extracting: /content/drive/My Drive/data/train/images/User.0.20.jpg  \n",
            " extracting: /content/drive/My Drive/data/train/images/User.0.21.jpg  \n",
            " extracting: /content/drive/My Drive/data/train/images/User.0.22.jpg  \n",
            " extracting: /content/drive/My Drive/data/train/images/User.0.23.jpg  \n",
            " extracting: /content/drive/My Drive/data/train/images/User.0.24.jpg  \n",
            " extracting: /content/drive/My Drive/data/train/images/User.0.25.jpg  \n",
            " extracting: /content/drive/My Drive/data/train/images/User.0.26.jpg  \n",
            " extracting: /content/drive/My Drive/data/train/images/User.0.27.jpg  \n",
            "  inflating: /content/drive/My Drive/data/train/images/User.0.28.jpg  \n",
            " extracting: /content/drive/My Drive/data/train/images/User.0.29.jpg  \n",
            " extracting: /content/drive/My Drive/data/train/images/User.0.3.jpg  \n",
            " extracting: /content/drive/My Drive/data/train/images/User.0.30.jpg  \n",
            " extracting: /content/drive/My Drive/data/train/images/User.0.31.jpg  \n",
            " extracting: /content/drive/My Drive/data/train/images/User.0.32.jpg  \n",
            " extracting: /content/drive/My Drive/data/train/images/User.0.33.jpg  \n",
            " extracting: /content/drive/My Drive/data/train/images/User.0.34.jpg  \n",
            " extracting: /content/drive/My Drive/data/train/images/User.0.35.jpg  \n",
            " extracting: /content/drive/My Drive/data/train/images/User.0.36.jpg  \n",
            " extracting: /content/drive/My Drive/data/train/images/User.0.37.jpg  \n",
            " extracting: /content/drive/My Drive/data/train/images/User.0.38.jpg  \n",
            " extracting: /content/drive/My Drive/data/train/images/User.0.39.jpg  \n",
            " extracting: /content/drive/My Drive/data/train/images/User.0.4.jpg  \n",
            " extracting: /content/drive/My Drive/data/train/images/User.0.40.jpg  \n",
            " extracting: /content/drive/My Drive/data/train/images/User.0.41.jpg  \n",
            " extracting: /content/drive/My Drive/data/train/images/User.0.42.jpg  \n",
            " extracting: /content/drive/My Drive/data/train/images/User.0.43.jpg  \n",
            " extracting: /content/drive/My Drive/data/train/images/User.0.44.jpg  \n",
            " extracting: /content/drive/My Drive/data/train/images/User.0.45.jpg  \n",
            " extracting: /content/drive/My Drive/data/train/images/User.0.46.jpg  \n",
            "  inflating: /content/drive/My Drive/data/train/images/User.0.47.jpg  \n",
            " extracting: /content/drive/My Drive/data/train/images/User.0.48.jpg  \n",
            " extracting: /content/drive/My Drive/data/train/images/User.0.49.jpg  \n",
            " extracting: /content/drive/My Drive/data/train/images/User.0.5.jpg  \n",
            " extracting: /content/drive/My Drive/data/train/images/User.0.50.jpg  \n",
            " extracting: /content/drive/My Drive/data/train/images/User.0.51.jpg  \n",
            " extracting: /content/drive/My Drive/data/train/images/User.0.52.jpg  \n",
            " extracting: /content/drive/My Drive/data/train/images/User.0.53.jpg  \n",
            " extracting: /content/drive/My Drive/data/train/images/User.0.54.jpg  \n",
            " extracting: /content/drive/My Drive/data/train/images/User.0.55.jpg  \n",
            " extracting: /content/drive/My Drive/data/train/images/User.0.56.jpg  \n",
            " extracting: /content/drive/My Drive/data/train/images/User.0.57.jpg  \n",
            " extracting: /content/drive/My Drive/data/train/images/User.0.58.jpg  \n",
            " extracting: /content/drive/My Drive/data/train/images/User.0.59.jpg  \n",
            " extracting: /content/drive/My Drive/data/train/images/User.0.6.jpg  \n",
            " extracting: /content/drive/My Drive/data/train/images/User.0.60.jpg  \n",
            " extracting: /content/drive/My Drive/data/train/images/User.0.61.jpg  \n",
            " extracting: /content/drive/My Drive/data/train/images/User.0.62.jpg  \n",
            " extracting: /content/drive/My Drive/data/train/images/User.0.63.jpg  \n",
            "  inflating: /content/drive/My Drive/data/train/images/User.0.64.jpg  \n",
            " extracting: /content/drive/My Drive/data/train/images/User.0.65.jpg  \n",
            " extracting: /content/drive/My Drive/data/train/images/User.0.66.jpg  \n",
            " extracting: /content/drive/My Drive/data/train/images/User.0.67.jpg  \n",
            " extracting: /content/drive/My Drive/data/train/images/User.0.68.jpg  \n",
            " extracting: /content/drive/My Drive/data/train/images/User.0.69.jpg  \n",
            " extracting: /content/drive/My Drive/data/train/images/User.0.7.jpg  \n",
            " extracting: /content/drive/My Drive/data/train/images/User.0.70.jpg  \n",
            " extracting: /content/drive/My Drive/data/train/images/User.0.8.jpg  \n",
            " extracting: /content/drive/My Drive/data/train/images/User.0.9.jpg  \n",
            " extracting: /content/drive/My Drive/data/train/images/User.1.1.jpg  \n",
            " extracting: /content/drive/My Drive/data/train/images/User.1.10.jpg  \n",
            " extracting: /content/drive/My Drive/data/train/images/User.1.11.jpg  \n",
            " extracting: /content/drive/My Drive/data/train/images/User.1.12.jpg  \n",
            " extracting: /content/drive/My Drive/data/train/images/User.1.13.jpg  \n",
            "  inflating: /content/drive/My Drive/data/train/images/User.1.14.jpg  \n",
            " extracting: /content/drive/My Drive/data/train/images/User.1.15.jpg  \n",
            " extracting: /content/drive/My Drive/data/train/images/User.1.16.jpg  \n",
            " extracting: /content/drive/My Drive/data/train/images/User.1.17.jpg  \n",
            " extracting: /content/drive/My Drive/data/train/images/User.1.18.jpg  \n",
            " extracting: /content/drive/My Drive/data/train/images/User.1.19.jpg  \n",
            " extracting: /content/drive/My Drive/data/train/images/User.1.2.jpg  \n",
            " extracting: /content/drive/My Drive/data/train/images/User.1.20.jpg  \n",
            " extracting: /content/drive/My Drive/data/train/images/User.1.21.jpg  \n",
            " extracting: /content/drive/My Drive/data/train/images/User.1.22.jpg  \n",
            " extracting: /content/drive/My Drive/data/train/images/User.1.23.jpg  \n",
            " extracting: /content/drive/My Drive/data/train/images/User.1.24.jpg  \n",
            " extracting: /content/drive/My Drive/data/train/images/User.1.25.jpg  \n",
            " extracting: /content/drive/My Drive/data/train/images/User.1.26.jpg  \n",
            " extracting: /content/drive/My Drive/data/train/images/User.1.27.jpg  \n",
            " extracting: /content/drive/My Drive/data/train/images/User.1.28.jpg  \n",
            "  inflating: /content/drive/My Drive/data/train/images/User.1.29.jpg  \n",
            " extracting: /content/drive/My Drive/data/train/images/User.1.3.jpg  \n",
            " extracting: /content/drive/My Drive/data/train/images/User.1.30.jpg  \n",
            " extracting: /content/drive/My Drive/data/train/images/User.1.31.jpg  \n",
            " extracting: /content/drive/My Drive/data/train/images/User.1.32.jpg  \n",
            " extracting: /content/drive/My Drive/data/train/images/User.1.33.jpg  \n",
            " extracting: /content/drive/My Drive/data/train/images/User.1.34.jpg  \n",
            " extracting: /content/drive/My Drive/data/train/images/User.1.35.jpg  \n",
            " extracting: /content/drive/My Drive/data/train/images/User.1.36.jpg  \n",
            " extracting: /content/drive/My Drive/data/train/images/User.1.37.jpg  \n",
            " extracting: /content/drive/My Drive/data/train/images/User.1.38.jpg  \n",
            " extracting: /content/drive/My Drive/data/train/images/User.1.39.jpg  \n",
            "  inflating: /content/drive/My Drive/data/train/images/User.1.4.jpg  \n",
            " extracting: /content/drive/My Drive/data/train/images/User.1.40.jpg  \n",
            " extracting: /content/drive/My Drive/data/train/images/User.1.41.jpg  \n",
            " extracting: /content/drive/My Drive/data/train/images/User.1.42.jpg  \n",
            " extracting: /content/drive/My Drive/data/train/images/User.1.43.jpg  \n",
            " extracting: /content/drive/My Drive/data/train/images/User.1.44.jpg  \n",
            " extracting: /content/drive/My Drive/data/train/images/User.1.45.jpg  \n",
            " extracting: /content/drive/My Drive/data/train/images/User.1.46.jpg  \n",
            " extracting: /content/drive/My Drive/data/train/images/User.1.47.jpg  \n",
            " extracting: /content/drive/My Drive/data/train/images/User.1.48.jpg  \n",
            " extracting: /content/drive/My Drive/data/train/images/User.1.49.jpg  \n",
            "  inflating: /content/drive/My Drive/data/train/images/User.1.5.jpg  \n",
            " extracting: /content/drive/My Drive/data/train/images/User.1.50.jpg  \n",
            " extracting: /content/drive/My Drive/data/train/images/User.1.51.jpg  \n",
            " extracting: /content/drive/My Drive/data/train/images/User.1.52.jpg  \n",
            " extracting: /content/drive/My Drive/data/train/images/User.1.53.jpg  \n",
            " extracting: /content/drive/My Drive/data/train/images/User.1.54.jpg  \n",
            " extracting: /content/drive/My Drive/data/train/images/User.1.55.jpg  \n",
            " extracting: /content/drive/My Drive/data/train/images/User.1.56.jpg  \n",
            " extracting: /content/drive/My Drive/data/train/images/User.1.57.jpg  \n",
            " extracting: /content/drive/My Drive/data/train/images/User.1.58.jpg  \n",
            "  inflating: /content/drive/My Drive/data/train/images/User.1.59.jpg  \n",
            " extracting: /content/drive/My Drive/data/train/images/User.1.6.jpg  \n",
            " extracting: /content/drive/My Drive/data/train/images/User.1.60.jpg  \n",
            " extracting: /content/drive/My Drive/data/train/images/User.1.61.jpg  \n",
            " extracting: /content/drive/My Drive/data/train/images/User.1.62.jpg  \n",
            " extracting: /content/drive/My Drive/data/train/images/User.1.63.jpg  \n",
            " extracting: /content/drive/My Drive/data/train/images/User.1.64.jpg  \n",
            " extracting: /content/drive/My Drive/data/train/images/User.1.65.jpg  \n",
            " extracting: /content/drive/My Drive/data/train/images/User.1.66.jpg  \n",
            " extracting: /content/drive/My Drive/data/train/images/User.1.67.jpg  \n",
            " extracting: /content/drive/My Drive/data/train/images/User.1.68.jpg  \n",
            " extracting: /content/drive/My Drive/data/train/images/User.1.69.jpg  \n",
            " extracting: /content/drive/My Drive/data/train/images/User.1.7.jpg  \n",
            " extracting: /content/drive/My Drive/data/train/images/User.1.70.jpg  \n",
            " extracting: /content/drive/My Drive/data/train/images/User.1.8.jpg  \n",
            " extracting: /content/drive/My Drive/data/train/images/User.1.9.jpg  \n",
            " extracting: /content/drive/My Drive/data/train/images/User.2.1.jpg  \n",
            " extracting: /content/drive/My Drive/data/train/images/User.2.10.jpg  \n",
            " extracting: /content/drive/My Drive/data/train/images/User.2.11.jpg  \n",
            " extracting: /content/drive/My Drive/data/train/images/User.2.12.jpg  \n",
            " extracting: /content/drive/My Drive/data/train/images/User.2.13.jpg  \n",
            " extracting: /content/drive/My Drive/data/train/images/User.2.14.jpg  \n",
            " extracting: /content/drive/My Drive/data/train/images/User.2.15.jpg  \n",
            " extracting: /content/drive/My Drive/data/train/images/User.2.16.jpg  \n",
            " extracting: /content/drive/My Drive/data/train/images/User.2.17.jpg  \n",
            " extracting: /content/drive/My Drive/data/train/images/User.2.18.jpg  \n",
            " extracting: /content/drive/My Drive/data/train/images/User.2.19.jpg  \n",
            " extracting: /content/drive/My Drive/data/train/images/User.2.2.jpg  \n",
            " extracting: /content/drive/My Drive/data/train/images/User.2.20.jpg  \n",
            " extracting: /content/drive/My Drive/data/train/images/User.2.21.jpg  \n",
            " extracting: /content/drive/My Drive/data/train/images/User.2.22.jpg  \n",
            " extracting: /content/drive/My Drive/data/train/images/User.2.23.jpg  \n",
            " extracting: /content/drive/My Drive/data/train/images/User.2.24.jpg  \n",
            " extracting: /content/drive/My Drive/data/train/images/User.2.25.jpg  \n",
            " extracting: /content/drive/My Drive/data/train/images/User.2.26.jpg  \n",
            " extracting: /content/drive/My Drive/data/train/images/User.2.27.jpg  \n",
            " extracting: /content/drive/My Drive/data/train/images/User.2.28.jpg  \n",
            " extracting: /content/drive/My Drive/data/train/images/User.2.29.jpg  \n",
            " extracting: /content/drive/My Drive/data/train/images/User.2.3.jpg  \n",
            "  inflating: /content/drive/My Drive/data/train/images/User.2.30.jpg  \n",
            "  inflating: /content/drive/My Drive/data/train/images/User.2.31.jpg  \n",
            " extracting: /content/drive/My Drive/data/train/images/User.2.32.jpg  \n",
            " extracting: /content/drive/My Drive/data/train/images/User.2.33.jpg  \n",
            " extracting: /content/drive/My Drive/data/train/images/User.2.34.jpg  \n",
            " extracting: /content/drive/My Drive/data/train/images/User.2.35.jpg  \n",
            " extracting: /content/drive/My Drive/data/train/images/User.2.36.jpg  \n",
            " extracting: /content/drive/My Drive/data/train/images/User.2.37.jpg  \n",
            "  inflating: /content/drive/My Drive/data/train/images/User.2.38.jpg  \n",
            " extracting: /content/drive/My Drive/data/train/images/User.2.39.jpg  \n",
            " extracting: /content/drive/My Drive/data/train/images/User.2.4.jpg  \n",
            " extracting: /content/drive/My Drive/data/train/images/User.2.40.jpg  \n",
            "  inflating: /content/drive/My Drive/data/train/images/User.2.41.jpg  \n",
            " extracting: /content/drive/My Drive/data/train/images/User.2.42.jpg  \n",
            " extracting: /content/drive/My Drive/data/train/images/User.2.43.jpg  \n",
            " extracting: /content/drive/My Drive/data/train/images/User.2.44.jpg  \n",
            " extracting: /content/drive/My Drive/data/train/images/User.2.45.jpg  \n",
            " extracting: /content/drive/My Drive/data/train/images/User.2.46.jpg  \n",
            " extracting: /content/drive/My Drive/data/train/images/User.2.47.jpg  \n",
            " extracting: /content/drive/My Drive/data/train/images/User.2.48.jpg  \n",
            " extracting: /content/drive/My Drive/data/train/images/User.2.49.jpg  \n",
            " extracting: /content/drive/My Drive/data/train/images/User.2.5.jpg  \n",
            " extracting: /content/drive/My Drive/data/train/images/User.2.50.jpg  \n",
            " extracting: /content/drive/My Drive/data/train/images/User.2.51.jpg  \n",
            " extracting: /content/drive/My Drive/data/train/images/User.2.52.jpg  \n",
            " extracting: /content/drive/My Drive/data/train/images/User.2.53.jpg  \n",
            " extracting: /content/drive/My Drive/data/train/images/User.2.54.jpg  \n",
            " extracting: /content/drive/My Drive/data/train/images/User.2.55.jpg  \n",
            " extracting: /content/drive/My Drive/data/train/images/User.2.56.jpg  \n",
            " extracting: /content/drive/My Drive/data/train/images/User.2.57.jpg  \n",
            "  inflating: /content/drive/My Drive/data/train/images/User.2.58.jpg  \n",
            " extracting: /content/drive/My Drive/data/train/images/User.2.59.jpg  \n",
            " extracting: /content/drive/My Drive/data/train/images/User.2.6.jpg  \n",
            " extracting: /content/drive/My Drive/data/train/images/User.2.60.jpg  \n",
            " extracting: /content/drive/My Drive/data/train/images/User.2.61.jpg  \n",
            " extracting: /content/drive/My Drive/data/train/images/User.2.62.jpg  \n",
            " extracting: /content/drive/My Drive/data/train/images/User.2.63.jpg  \n",
            " extracting: /content/drive/My Drive/data/train/images/User.2.64.jpg  \n",
            " extracting: /content/drive/My Drive/data/train/images/User.2.65.jpg  \n",
            " extracting: /content/drive/My Drive/data/train/images/User.2.66.jpg  \n",
            " extracting: /content/drive/My Drive/data/train/images/User.2.67.jpg  \n",
            " extracting: /content/drive/My Drive/data/train/images/User.2.68.jpg  \n",
            " extracting: /content/drive/My Drive/data/train/images/User.2.69.jpg  \n",
            " extracting: /content/drive/My Drive/data/train/images/User.2.7.jpg  \n",
            " extracting: /content/drive/My Drive/data/train/images/User.2.70.jpg  \n",
            " extracting: /content/drive/My Drive/data/train/images/User.2.8.jpg  \n",
            " extracting: /content/drive/My Drive/data/train/images/User.2.9.jpg  \n",
            " extracting: /content/drive/My Drive/data/train/images/User.3.1.jpg  \n",
            " extracting: /content/drive/My Drive/data/train/images/User.3.10.jpg  \n",
            " extracting: /content/drive/My Drive/data/train/images/User.3.11.jpg  \n",
            " extracting: /content/drive/My Drive/data/train/images/User.3.12.jpg  \n",
            " extracting: /content/drive/My Drive/data/train/images/User.3.13.jpg  \n",
            " extracting: /content/drive/My Drive/data/train/images/User.3.14.jpg  \n",
            " extracting: /content/drive/My Drive/data/train/images/User.3.15.jpg  \n",
            " extracting: /content/drive/My Drive/data/train/images/User.3.16.jpg  \n",
            " extracting: /content/drive/My Drive/data/train/images/User.3.17.jpg  \n",
            " extracting: /content/drive/My Drive/data/train/images/User.3.18.jpg  \n",
            " extracting: /content/drive/My Drive/data/train/images/User.3.19.jpg  \n",
            " extracting: /content/drive/My Drive/data/train/images/User.3.2.jpg  \n",
            " extracting: /content/drive/My Drive/data/train/images/User.3.20.jpg  \n",
            " extracting: /content/drive/My Drive/data/train/images/User.3.21.jpg  \n",
            " extracting: /content/drive/My Drive/data/train/images/User.3.22.jpg  \n",
            " extracting: /content/drive/My Drive/data/train/images/User.3.23.jpg  \n",
            " extracting: /content/drive/My Drive/data/train/images/User.3.24.jpg  \n",
            " extracting: /content/drive/My Drive/data/train/images/User.3.25.jpg  \n",
            " extracting: /content/drive/My Drive/data/train/images/User.3.26.jpg  \n",
            " extracting: /content/drive/My Drive/data/train/images/User.3.27.jpg  \n",
            " extracting: /content/drive/My Drive/data/train/images/User.3.28.jpg  \n",
            " extracting: /content/drive/My Drive/data/train/images/User.3.29.jpg  \n",
            " extracting: /content/drive/My Drive/data/train/images/User.3.3.jpg  \n",
            " extracting: /content/drive/My Drive/data/train/images/User.3.30.jpg  \n",
            " extracting: /content/drive/My Drive/data/train/images/User.3.31.jpg  \n",
            " extracting: /content/drive/My Drive/data/train/images/User.3.32.jpg  \n",
            " extracting: /content/drive/My Drive/data/train/images/User.3.33.jpg  \n",
            " extracting: /content/drive/My Drive/data/train/images/User.3.34.jpg  \n",
            " extracting: /content/drive/My Drive/data/train/images/User.3.35.jpg  \n",
            " extracting: /content/drive/My Drive/data/train/images/User.3.36.jpg  \n",
            " extracting: /content/drive/My Drive/data/train/images/User.3.37.jpg  \n",
            " extracting: /content/drive/My Drive/data/train/images/User.3.38.jpg  \n",
            " extracting: /content/drive/My Drive/data/train/images/User.3.39.jpg  \n",
            " extracting: /content/drive/My Drive/data/train/images/User.3.4.jpg  \n",
            " extracting: /content/drive/My Drive/data/train/images/User.3.40.jpg  \n",
            " extracting: /content/drive/My Drive/data/train/images/User.3.41.jpg  \n",
            " extracting: /content/drive/My Drive/data/train/images/User.3.42.jpg  \n",
            " extracting: /content/drive/My Drive/data/train/images/User.3.43.jpg  \n",
            " extracting: /content/drive/My Drive/data/train/images/User.3.44.jpg  \n",
            " extracting: /content/drive/My Drive/data/train/images/User.3.45.jpg  \n",
            " extracting: /content/drive/My Drive/data/train/images/User.3.46.jpg  \n",
            " extracting: /content/drive/My Drive/data/train/images/User.3.47.jpg  \n",
            " extracting: /content/drive/My Drive/data/train/images/User.3.48.jpg  \n",
            " extracting: /content/drive/My Drive/data/train/images/User.3.49.jpg  \n",
            " extracting: /content/drive/My Drive/data/train/images/User.3.5.jpg  \n",
            " extracting: /content/drive/My Drive/data/train/images/User.3.50.jpg  \n",
            " extracting: /content/drive/My Drive/data/train/images/User.3.51.jpg  \n",
            " extracting: /content/drive/My Drive/data/train/images/User.3.52.jpg  \n",
            " extracting: /content/drive/My Drive/data/train/images/User.3.53.jpg  \n",
            " extracting: /content/drive/My Drive/data/train/images/User.3.54.jpg  \n",
            " extracting: /content/drive/My Drive/data/train/images/User.3.55.jpg  \n",
            " extracting: /content/drive/My Drive/data/train/images/User.3.56.jpg  \n",
            " extracting: /content/drive/My Drive/data/train/images/User.3.57.jpg  \n",
            " extracting: /content/drive/My Drive/data/train/images/User.3.58.jpg  \n",
            " extracting: /content/drive/My Drive/data/train/images/User.3.59.jpg  \n",
            " extracting: /content/drive/My Drive/data/train/images/User.3.6.jpg  \n",
            " extracting: /content/drive/My Drive/data/train/images/User.3.60.jpg  \n",
            " extracting: /content/drive/My Drive/data/train/images/User.3.61.jpg  \n",
            " extracting: /content/drive/My Drive/data/train/images/User.3.62.jpg  \n",
            " extracting: /content/drive/My Drive/data/train/images/User.3.63.jpg  \n",
            " extracting: /content/drive/My Drive/data/train/images/User.3.64.jpg  \n",
            " extracting: /content/drive/My Drive/data/train/images/User.3.65.jpg  \n",
            " extracting: /content/drive/My Drive/data/train/images/User.3.66.jpg  \n",
            " extracting: /content/drive/My Drive/data/train/images/User.3.67.jpg  \n",
            " extracting: /content/drive/My Drive/data/train/images/User.3.68.jpg  \n",
            " extracting: /content/drive/My Drive/data/train/images/User.3.69.jpg  \n",
            " extracting: /content/drive/My Drive/data/train/images/User.3.7.jpg  \n",
            " extracting: /content/drive/My Drive/data/train/images/User.3.70.jpg  \n",
            " extracting: /content/drive/My Drive/data/train/images/User.3.8.jpg  \n",
            " extracting: /content/drive/My Drive/data/train/images/User.3.9.jpg  \n",
            "   creating: /content/drive/My Drive/data/valid/\n",
            "   creating: /content/drive/My Drive/data/valid/images/\n",
            "  inflating: /content/drive/My Drive/data/valid/images/User.0.71.jpg  \n",
            " extracting: /content/drive/My Drive/data/valid/images/User.0.72.jpg  \n",
            " extracting: /content/drive/My Drive/data/valid/images/User.0.73.jpg  \n",
            " extracting: /content/drive/My Drive/data/valid/images/User.0.74.jpg  \n",
            " extracting: /content/drive/My Drive/data/valid/images/User.0.75.jpg  \n",
            " extracting: /content/drive/My Drive/data/valid/images/User.0.76.jpg  \n",
            " extracting: /content/drive/My Drive/data/valid/images/User.0.77.jpg  \n",
            " extracting: /content/drive/My Drive/data/valid/images/User.0.78.jpg  \n",
            " extracting: /content/drive/My Drive/data/valid/images/User.0.79.jpg  \n",
            " extracting: /content/drive/My Drive/data/valid/images/User.0.80.jpg  \n",
            " extracting: /content/drive/My Drive/data/valid/images/User.0.81.jpg  \n",
            " extracting: /content/drive/My Drive/data/valid/images/User.0.82.jpg  \n",
            " extracting: /content/drive/My Drive/data/valid/images/User.0.83.jpg  \n",
            "  inflating: /content/drive/My Drive/data/valid/images/User.0.84.jpg  \n",
            " extracting: /content/drive/My Drive/data/valid/images/User.0.85.jpg  \n",
            " extracting: /content/drive/My Drive/data/valid/images/User.0.86.jpg  \n",
            "  inflating: /content/drive/My Drive/data/valid/images/User.0.87.jpg  \n",
            " extracting: /content/drive/My Drive/data/valid/images/User.0.88.jpg  \n",
            " extracting: /content/drive/My Drive/data/valid/images/User.0.89.jpg  \n",
            " extracting: /content/drive/My Drive/data/valid/images/User.0.90.jpg  \n",
            " extracting: /content/drive/My Drive/data/valid/images/User.1.71.jpg  \n",
            " extracting: /content/drive/My Drive/data/valid/images/User.1.72.jpg  \n",
            " extracting: /content/drive/My Drive/data/valid/images/User.1.73.jpg  \n",
            " extracting: /content/drive/My Drive/data/valid/images/User.1.74.jpg  \n",
            " extracting: /content/drive/My Drive/data/valid/images/User.1.75.jpg  \n",
            " extracting: /content/drive/My Drive/data/valid/images/User.1.76.jpg  \n",
            " extracting: /content/drive/My Drive/data/valid/images/User.1.77.jpg  \n",
            " extracting: /content/drive/My Drive/data/valid/images/User.1.78.jpg  \n",
            " extracting: /content/drive/My Drive/data/valid/images/User.1.79.jpg  \n",
            " extracting: /content/drive/My Drive/data/valid/images/User.1.80.jpg  \n",
            "  inflating: /content/drive/My Drive/data/valid/images/User.1.81.jpg  \n",
            " extracting: /content/drive/My Drive/data/valid/images/User.1.82.jpg  \n",
            " extracting: /content/drive/My Drive/data/valid/images/User.1.83.jpg  \n",
            " extracting: /content/drive/My Drive/data/valid/images/User.1.84.jpg  \n",
            " extracting: /content/drive/My Drive/data/valid/images/User.1.85.jpg  \n",
            " extracting: /content/drive/My Drive/data/valid/images/User.1.86.jpg  \n",
            " extracting: /content/drive/My Drive/data/valid/images/User.1.87.jpg  \n",
            " extracting: /content/drive/My Drive/data/valid/images/User.1.88.jpg  \n",
            " extracting: /content/drive/My Drive/data/valid/images/User.1.89.jpg  \n",
            " extracting: /content/drive/My Drive/data/valid/images/User.1.90.jpg  \n",
            " extracting: /content/drive/My Drive/data/valid/images/User.2.71.jpg  \n",
            " extracting: /content/drive/My Drive/data/valid/images/User.2.72.jpg  \n",
            " extracting: /content/drive/My Drive/data/valid/images/User.2.73.jpg  \n",
            " extracting: /content/drive/My Drive/data/valid/images/User.2.74.jpg  \n",
            " extracting: /content/drive/My Drive/data/valid/images/User.2.75.jpg  \n",
            " extracting: /content/drive/My Drive/data/valid/images/User.2.76.jpg  \n",
            " extracting: /content/drive/My Drive/data/valid/images/User.2.77.jpg  \n",
            " extracting: /content/drive/My Drive/data/valid/images/User.2.78.jpg  \n",
            " extracting: /content/drive/My Drive/data/valid/images/User.2.79.jpg  \n",
            " extracting: /content/drive/My Drive/data/valid/images/User.2.80.jpg  \n",
            " extracting: /content/drive/My Drive/data/valid/images/User.2.81.jpg  \n",
            " extracting: /content/drive/My Drive/data/valid/images/User.2.82.jpg  \n",
            " extracting: /content/drive/My Drive/data/valid/images/User.2.83.jpg  \n",
            " extracting: /content/drive/My Drive/data/valid/images/User.2.84.jpg  \n",
            " extracting: /content/drive/My Drive/data/valid/images/User.2.85.jpg  \n",
            " extracting: /content/drive/My Drive/data/valid/images/User.2.86.jpg  \n",
            " extracting: /content/drive/My Drive/data/valid/images/User.2.87.jpg  \n",
            " extracting: /content/drive/My Drive/data/valid/images/User.2.88.jpg  \n",
            " extracting: /content/drive/My Drive/data/valid/images/User.2.89.jpg  \n",
            " extracting: /content/drive/My Drive/data/valid/images/User.2.90.jpg  \n",
            " extracting: /content/drive/My Drive/data/valid/images/User.3.71.jpg  \n",
            " extracting: /content/drive/My Drive/data/valid/images/User.3.72.jpg  \n",
            " extracting: /content/drive/My Drive/data/valid/images/User.3.73.jpg  \n",
            " extracting: /content/drive/My Drive/data/valid/images/User.3.74.jpg  \n",
            " extracting: /content/drive/My Drive/data/valid/images/User.3.75.jpg  \n",
            " extracting: /content/drive/My Drive/data/valid/images/User.3.76.jpg  \n",
            " extracting: /content/drive/My Drive/data/valid/images/User.3.77.jpg  \n",
            " extracting: /content/drive/My Drive/data/valid/images/User.3.78.jpg  \n",
            " extracting: /content/drive/My Drive/data/valid/images/User.3.79.jpg  \n",
            " extracting: /content/drive/My Drive/data/valid/images/User.3.80.jpg  \n",
            " extracting: /content/drive/My Drive/data/valid/images/User.3.81.jpg  \n",
            " extracting: /content/drive/My Drive/data/valid/images/User.3.82.jpg  \n",
            " extracting: /content/drive/My Drive/data/valid/images/User.3.83.jpg  \n",
            " extracting: /content/drive/My Drive/data/valid/images/User.3.84.jpg  \n",
            " extracting: /content/drive/My Drive/data/valid/images/User.3.85.jpg  \n",
            " extracting: /content/drive/My Drive/data/valid/images/User.3.86.jpg  \n",
            " extracting: /content/drive/My Drive/data/valid/images/User.3.87.jpg  \n",
            " extracting: /content/drive/My Drive/data/valid/images/User.3.88.jpg  \n",
            " extracting: /content/drive/My Drive/data/valid/images/User.3.89.jpg  \n",
            " extracting: /content/drive/My Drive/data/valid/images/User.3.90.jpg  \n"
          ]
        }
      ]
    },
    {
      "cell_type": "markdown",
      "source": [
        "### **Install YOLOv5**"
      ],
      "metadata": {
        "id": "j_aEU3U_9c-T"
      }
    },
    {
      "cell_type": "code",
      "source": [
        "# 현재 경로 확인\n",
        "!pwd"
      ],
      "metadata": {
        "colab": {
          "base_uri": "https://localhost:8080/"
        },
        "id": "hQR0-eIhB0q_",
        "outputId": "07133c7c-cf42-4cc9-d2f0-b1cdb060a684"
      },
      "execution_count": 29,
      "outputs": [
        {
          "output_type": "stream",
          "name": "stdout",
          "text": [
            "shell-init: error retrieving current directory: getcwd: cannot access parent directories: No such file or directory\n",
            "pwd: error retrieving current directory: getcwd: cannot access parent directories: No such file or directory\n"
          ]
        }
      ]
    },
    {
      "cell_type": "code",
      "execution_count": 28,
      "metadata": {
        "colab": {
          "base_uri": "https://localhost:8080/"
        },
        "id": "vUe5p5yD4RZo",
        "outputId": "f59129af-186a-4ae5-d33b-d8d87449eb81"
      },
      "outputs": [
        {
          "output_type": "stream",
          "name": "stdout",
          "text": [
            "shell-init: error retrieving current directory: getcwd: cannot access parent directories: No such file or directory\n",
            "shell-init: error retrieving current directory: getcwd: cannot access parent directories: No such file or directory\n",
            "The folder you are executing pip from can no longer be found.\n"
          ]
        }
      ],
      "source": [
        "pip install yolov5"
      ]
    },
    {
      "cell_type": "code",
      "source": [
        "%cd /content/drive/MyDrive/yolov5/\n",
        "!pip install -r requirements.txt\n",
        "import torch\n",
        "\n",
        "from IPython.display import Image, clear_output  # to display images\n",
        "from utils.downloads import attempt_download  # to download models/datasets\n",
        "\n",
        "# clear_output()\n",
        "print('Setup complete. Using torch %s %s' % (torch.__version__, torch.cuda.get_device_properties(0) if torch.cuda.is_available() else 'CPU'))"
      ],
      "metadata": {
        "colab": {
          "base_uri": "https://localhost:8080/"
        },
        "id": "zzHHar4T-9pR",
        "outputId": "6f3af3c3-2ce0-41ad-ebf9-140e7b4f154f"
      },
      "execution_count": 22,
      "outputs": [
        {
          "output_type": "stream",
          "name": "stdout",
          "text": [
            "/content/drive/MyDrive/yolov5\n",
            "Requirement already satisfied: matplotlib>=3.2.2 in /usr/local/lib/python3.10/dist-packages (from -r requirements.txt (line 5)) (3.7.1)\n",
            "Requirement already satisfied: numpy>=1.18.5 in /usr/local/lib/python3.10/dist-packages (from -r requirements.txt (line 6)) (1.23.5)\n",
            "Requirement already satisfied: opencv-python>=4.1.1 in /usr/local/lib/python3.10/dist-packages (from -r requirements.txt (line 7)) (4.7.0.72)\n",
            "Requirement already satisfied: Pillow>=7.1.2 in /usr/local/lib/python3.10/dist-packages (from -r requirements.txt (line 8)) (9.4.0)\n",
            "Requirement already satisfied: PyYAML>=5.3.1 in /usr/local/lib/python3.10/dist-packages (from -r requirements.txt (line 9)) (6.0.1)\n",
            "Requirement already satisfied: requests>=2.23.0 in /usr/local/lib/python3.10/dist-packages (from -r requirements.txt (line 10)) (2.31.0)\n",
            "Requirement already satisfied: scipy>=1.4.1 in /usr/local/lib/python3.10/dist-packages (from -r requirements.txt (line 11)) (1.11.3)\n",
            "Requirement already satisfied: torch>=1.7.0 in /usr/local/lib/python3.10/dist-packages (from -r requirements.txt (line 12)) (2.1.0+cu118)\n",
            "Requirement already satisfied: torchvision>=0.8.1 in /usr/local/lib/python3.10/dist-packages (from -r requirements.txt (line 13)) (0.16.0+cu118)\n",
            "Requirement already satisfied: tqdm>=4.64.0 in /usr/local/lib/python3.10/dist-packages (from -r requirements.txt (line 14)) (4.66.1)\n",
            "Requirement already satisfied: protobuf<4.21.3 in /usr/local/lib/python3.10/dist-packages (from -r requirements.txt (line 15)) (3.20.3)\n",
            "Requirement already satisfied: tensorboard>=2.4.1 in /usr/local/lib/python3.10/dist-packages (from -r requirements.txt (line 18)) (2.14.1)\n",
            "Requirement already satisfied: pandas>=1.1.4 in /usr/local/lib/python3.10/dist-packages (from -r requirements.txt (line 22)) (1.5.3)\n",
            "Requirement already satisfied: seaborn>=0.11.0 in /usr/local/lib/python3.10/dist-packages (from -r requirements.txt (line 23)) (0.12.2)\n",
            "Requirement already satisfied: ipython in /usr/local/lib/python3.10/dist-packages (from -r requirements.txt (line 37)) (7.34.0)\n",
            "Requirement already satisfied: psutil in /usr/local/lib/python3.10/dist-packages (from -r requirements.txt (line 38)) (5.9.5)\n",
            "Requirement already satisfied: thop>=0.1.1 in /usr/local/lib/python3.10/dist-packages (from -r requirements.txt (line 39)) (0.1.1.post2209072238)\n",
            "Requirement already satisfied: contourpy>=1.0.1 in /usr/local/lib/python3.10/dist-packages (from matplotlib>=3.2.2->-r requirements.txt (line 5)) (1.2.0)\n",
            "Requirement already satisfied: cycler>=0.10 in /usr/local/lib/python3.10/dist-packages (from matplotlib>=3.2.2->-r requirements.txt (line 5)) (0.10.0)\n",
            "Requirement already satisfied: fonttools>=4.22.0 in /usr/local/lib/python3.10/dist-packages (from matplotlib>=3.2.2->-r requirements.txt (line 5)) (4.44.0)\n",
            "Requirement already satisfied: kiwisolver>=1.0.1 in /usr/local/lib/python3.10/dist-packages (from matplotlib>=3.2.2->-r requirements.txt (line 5)) (1.4.5)\n",
            "Requirement already satisfied: packaging>=20.0 in /usr/local/lib/python3.10/dist-packages (from matplotlib>=3.2.2->-r requirements.txt (line 5)) (23.2)\n",
            "Requirement already satisfied: pyparsing>=2.3.1 in /usr/local/lib/python3.10/dist-packages (from matplotlib>=3.2.2->-r requirements.txt (line 5)) (2.4.7)\n",
            "Requirement already satisfied: python-dateutil>=2.7 in /usr/local/lib/python3.10/dist-packages (from matplotlib>=3.2.2->-r requirements.txt (line 5)) (2.8.2)\n",
            "Requirement already satisfied: charset-normalizer<4,>=2 in /usr/local/lib/python3.10/dist-packages (from requests>=2.23.0->-r requirements.txt (line 10)) (3.3.2)\n",
            "Requirement already satisfied: idna<4,>=2.5 in /usr/local/lib/python3.10/dist-packages (from requests>=2.23.0->-r requirements.txt (line 10)) (2.10)\n",
            "Requirement already satisfied: urllib3<3,>=1.21.1 in /usr/local/lib/python3.10/dist-packages (from requests>=2.23.0->-r requirements.txt (line 10)) (2.0.7)\n",
            "Requirement already satisfied: certifi>=2017.4.17 in /usr/local/lib/python3.10/dist-packages (from requests>=2.23.0->-r requirements.txt (line 10)) (2023.7.22)\n",
            "Requirement already satisfied: filelock in /usr/local/lib/python3.10/dist-packages (from torch>=1.7.0->-r requirements.txt (line 12)) (3.13.1)\n",
            "Requirement already satisfied: typing-extensions in /usr/local/lib/python3.10/dist-packages (from torch>=1.7.0->-r requirements.txt (line 12)) (4.5.0)\n",
            "Requirement already satisfied: sympy in /usr/local/lib/python3.10/dist-packages (from torch>=1.7.0->-r requirements.txt (line 12)) (1.12)\n",
            "Requirement already satisfied: networkx in /usr/local/lib/python3.10/dist-packages (from torch>=1.7.0->-r requirements.txt (line 12)) (3.2.1)\n",
            "Requirement already satisfied: jinja2 in /usr/local/lib/python3.10/dist-packages (from torch>=1.7.0->-r requirements.txt (line 12)) (3.1.2)\n",
            "Requirement already satisfied: fsspec in /usr/local/lib/python3.10/dist-packages (from torch>=1.7.0->-r requirements.txt (line 12)) (2023.6.0)\n",
            "Requirement already satisfied: triton==2.1.0 in /usr/local/lib/python3.10/dist-packages (from torch>=1.7.0->-r requirements.txt (line 12)) (2.1.0)\n",
            "Requirement already satisfied: absl-py>=0.4 in /usr/local/lib/python3.10/dist-packages (from tensorboard>=2.4.1->-r requirements.txt (line 18)) (1.4.0)\n",
            "Requirement already satisfied: grpcio>=1.48.2 in /usr/local/lib/python3.10/dist-packages (from tensorboard>=2.4.1->-r requirements.txt (line 18)) (1.59.2)\n",
            "Requirement already satisfied: google-auth<3,>=1.6.3 in /usr/local/lib/python3.10/dist-packages (from tensorboard>=2.4.1->-r requirements.txt (line 18)) (2.17.3)\n",
            "Requirement already satisfied: google-auth-oauthlib<1.1,>=0.5 in /usr/local/lib/python3.10/dist-packages (from tensorboard>=2.4.1->-r requirements.txt (line 18)) (1.0.0)\n",
            "Requirement already satisfied: markdown>=2.6.8 in /usr/local/lib/python3.10/dist-packages (from tensorboard>=2.4.1->-r requirements.txt (line 18)) (3.5.1)\n",
            "Requirement already satisfied: setuptools>=41.0.0 in /usr/local/lib/python3.10/dist-packages (from tensorboard>=2.4.1->-r requirements.txt (line 18)) (67.7.2)\n",
            "Requirement already satisfied: six>1.9 in /usr/local/lib/python3.10/dist-packages (from tensorboard>=2.4.1->-r requirements.txt (line 18)) (1.16.0)\n",
            "Requirement already satisfied: tensorboard-data-server<0.8.0,>=0.7.0 in /usr/local/lib/python3.10/dist-packages (from tensorboard>=2.4.1->-r requirements.txt (line 18)) (0.7.2)\n",
            "Requirement already satisfied: werkzeug>=1.0.1 in /usr/local/lib/python3.10/dist-packages (from tensorboard>=2.4.1->-r requirements.txt (line 18)) (3.0.1)\n",
            "Requirement already satisfied: pytz>=2020.1 in /usr/local/lib/python3.10/dist-packages (from pandas>=1.1.4->-r requirements.txt (line 22)) (2023.3.post1)\n",
            "Requirement already satisfied: jedi>=0.16 in /usr/local/lib/python3.10/dist-packages (from ipython->-r requirements.txt (line 37)) (0.19.1)\n",
            "Requirement already satisfied: decorator in /usr/local/lib/python3.10/dist-packages (from ipython->-r requirements.txt (line 37)) (4.4.2)\n",
            "Requirement already satisfied: pickleshare in /usr/local/lib/python3.10/dist-packages (from ipython->-r requirements.txt (line 37)) (0.7.5)\n",
            "Requirement already satisfied: traitlets>=4.2 in /usr/local/lib/python3.10/dist-packages (from ipython->-r requirements.txt (line 37)) (5.7.1)\n",
            "Requirement already satisfied: prompt-toolkit!=3.0.0,!=3.0.1,<3.1.0,>=2.0.0 in /usr/local/lib/python3.10/dist-packages (from ipython->-r requirements.txt (line 37)) (3.0.39)\n",
            "Requirement already satisfied: pygments in /usr/local/lib/python3.10/dist-packages (from ipython->-r requirements.txt (line 37)) (2.16.1)\n",
            "Requirement already satisfied: backcall in /usr/local/lib/python3.10/dist-packages (from ipython->-r requirements.txt (line 37)) (0.2.0)\n",
            "Requirement already satisfied: matplotlib-inline in /usr/local/lib/python3.10/dist-packages (from ipython->-r requirements.txt (line 37)) (0.1.6)\n",
            "Requirement already satisfied: pexpect>4.3 in /usr/local/lib/python3.10/dist-packages (from ipython->-r requirements.txt (line 37)) (4.8.0)\n",
            "Requirement already satisfied: cachetools<6.0,>=2.0.0 in /usr/local/lib/python3.10/dist-packages (from google-auth<3,>=1.6.3->tensorboard>=2.4.1->-r requirements.txt (line 18)) (5.3.2)\n",
            "Requirement already satisfied: pyasn1-modules>=0.2.1 in /usr/local/lib/python3.10/dist-packages (from google-auth<3,>=1.6.3->tensorboard>=2.4.1->-r requirements.txt (line 18)) (0.3.0)\n",
            "Requirement already satisfied: rsa<5,>=3.1.4 in /usr/local/lib/python3.10/dist-packages (from google-auth<3,>=1.6.3->tensorboard>=2.4.1->-r requirements.txt (line 18)) (4.9)\n",
            "Requirement already satisfied: requests-oauthlib>=0.7.0 in /usr/local/lib/python3.10/dist-packages (from google-auth-oauthlib<1.1,>=0.5->tensorboard>=2.4.1->-r requirements.txt (line 18)) (1.3.1)\n",
            "Requirement already satisfied: parso<0.9.0,>=0.8.3 in /usr/local/lib/python3.10/dist-packages (from jedi>=0.16->ipython->-r requirements.txt (line 37)) (0.8.3)\n",
            "Requirement already satisfied: ptyprocess>=0.5 in /usr/local/lib/python3.10/dist-packages (from pexpect>4.3->ipython->-r requirements.txt (line 37)) (0.7.0)\n",
            "Requirement already satisfied: wcwidth in /usr/local/lib/python3.10/dist-packages (from prompt-toolkit!=3.0.0,!=3.0.1,<3.1.0,>=2.0.0->ipython->-r requirements.txt (line 37)) (0.2.9)\n",
            "Requirement already satisfied: MarkupSafe>=2.1.1 in /usr/local/lib/python3.10/dist-packages (from werkzeug>=1.0.1->tensorboard>=2.4.1->-r requirements.txt (line 18)) (2.1.3)\n",
            "Requirement already satisfied: mpmath>=0.19 in /usr/local/lib/python3.10/dist-packages (from sympy->torch>=1.7.0->-r requirements.txt (line 12)) (1.3.0)\n",
            "Requirement already satisfied: pyasn1<0.6.0,>=0.4.6 in /usr/local/lib/python3.10/dist-packages (from pyasn1-modules>=0.2.1->google-auth<3,>=1.6.3->tensorboard>=2.4.1->-r requirements.txt (line 18)) (0.5.0)\n",
            "Requirement already satisfied: oauthlib>=3.0.0 in /usr/local/lib/python3.10/dist-packages (from requests-oauthlib>=0.7.0->google-auth-oauthlib<1.1,>=0.5->tensorboard>=2.4.1->-r requirements.txt (line 18)) (3.2.2)\n",
            "Setup complete. Using torch 2.1.0+cu118 _CudaDeviceProperties(name='Tesla T4', major=7, minor=5, total_memory=15101MB, multi_processor_count=40)\n"
          ]
        }
      ]
    },
    {
      "cell_type": "code",
      "source": [
        "%cd /content/drive/MyDrive/yolov5\n",
        "#after following the link above, recieve python code with these fields filled in\n",
        "#from roboflow import Roboflow\n",
        "#rf = Roboflow(api_key=\"YOUR API KEY HERE\")\n",
        "#project = rf.workspace().project(\"YOUR PROJECT\")\n",
        "#dataset = project.version(\"YOUR VERSION\").download(\"yolov5\")"
      ],
      "metadata": {
        "colab": {
          "base_uri": "https://localhost:8080/"
        },
        "id": "yIsyE6WXUxsU",
        "outputId": "362ef631-c5c6-47d7-843b-7e7553786ec2"
      },
      "execution_count": 20,
      "outputs": [
        {
          "output_type": "stream",
          "name": "stdout",
          "text": [
            "/content/drive/MyDrive/yolov5\n"
          ]
        }
      ]
    },
    {
      "cell_type": "markdown",
      "source": [
        "###**Erase folder**"
      ],
      "metadata": {
        "id": "Atzf0B2sBZM1"
      }
    },
    {
      "cell_type": "code",
      "source": [
        "import shutil\n",
        "shutil.rmtree('/content/drive/MyDrive/yolov5')"
      ],
      "metadata": {
        "id": "gUr2o7ZiBEGN"
      },
      "execution_count": 26,
      "outputs": []
    },
    {
      "cell_type": "markdown",
      "source": [
        "###**Train**"
      ],
      "metadata": {
        "id": "FtWlqpyvNsBl"
      }
    },
    {
      "cell_type": "code",
      "source": [
        "# 학습 데이터의 경로, 클래스 개수 및 종류가 적혀 있는 yaml 파일 제작\n",
        "import yaml\n",
        "\n",
        "with open(\"/content/drive/MyDrive/data/data.yaml\", 'r') as f:\n",
        "  data = yaml.load(f, Loader=yaml.FullLoader)\n",
        "\n",
        "data['train'] = \"/content/drive/MyDrive/data/\"\n",
        "data['test'] = \"/content/drive/MyDrive/data/\"\n",
        "data['val'] = \"/content/drive/MyDrive/data/\"\n",
        "\n",
        "with open(\"/content/drive/MyDrive/data/data.yaml\", 'w') as f:\n",
        "  yaml.dump(data, f)"
      ],
      "metadata": {
        "id": "_SelAETRNvGL"
      },
      "execution_count": 16,
      "outputs": []
    },
    {
      "cell_type": "code",
      "source": [
        "# 학습\n",
        "%cd /content/drive/MyDrive/yolov5\n",
        "!python /content/drive/MyDrive/yolov5/train.py --epochs 50 --data /content/drive/MyDrive/data/data.yaml --name first_time"
      ],
      "metadata": {
        "colab": {
          "base_uri": "https://localhost:8080/"
        },
        "id": "Tzv6lDu9O18q",
        "outputId": "87f58cf6-901e-4da8-c448-bbc1526fe284"
      },
      "execution_count": 23,
      "outputs": [
        {
          "output_type": "stream",
          "name": "stdout",
          "text": [
            "/content/drive/MyDrive/yolov5\n",
            "2023-11-14 10:22:06.124040: E tensorflow/compiler/xla/stream_executor/cuda/cuda_dnn.cc:9342] Unable to register cuDNN factory: Attempting to register factory for plugin cuDNN when one has already been registered\n",
            "2023-11-14 10:22:06.124106: E tensorflow/compiler/xla/stream_executor/cuda/cuda_fft.cc:609] Unable to register cuFFT factory: Attempting to register factory for plugin cuFFT when one has already been registered\n",
            "2023-11-14 10:22:06.124151: E tensorflow/compiler/xla/stream_executor/cuda/cuda_blas.cc:1518] Unable to register cuBLAS factory: Attempting to register factory for plugin cuBLAS when one has already been registered\n",
            "2023-11-14 10:22:07.582358: W tensorflow/compiler/tf2tensorrt/utils/py_utils.cc:38] TF-TRT Warning: Could not find TensorRT\n",
            "\u001b[34m\u001b[1mtrain: \u001b[0mweights=yolov5s.pt, cfg=, data=/content/drive/MyDrive/data/data.yaml, hyp=data/hyps/hyp.scratch-low.yaml, epochs=50, batch_size=16, imgsz=640, rect=False, resume=False, nosave=False, noval=False, noautoanchor=False, noplots=False, evolve=None, bucket=, cache=None, image_weights=False, device=, multi_scale=False, single_cls=False, optimizer=SGD, sync_bn=False, workers=8, project=runs/train, name=first_time, exist_ok=False, quad=False, cos_lr=False, label_smoothing=0.0, patience=100, freeze=[0], save_period=-1, seed=0, local_rank=-1, entity=None, upload_dataset=False, bbox_interval=-1, artifact_alias=latest\n",
            "\u001b[34m\u001b[1mgithub: \u001b[0m⚠️ YOLOv5 is out of date by 604 commits. Use `git pull` or `git clone https://github.com/ultralytics/yolov5` to update.\n",
            "Traceback (most recent call last):\n",
            "  File \"/content/drive/MyDrive/yolov5/train.py\", line 642, in <module>\n",
            "    main(opt)\n",
            "  File \"/content/drive/MyDrive/yolov5/train.py\", line 512, in main\n",
            "    check_file(opt.data), check_yaml(opt.cfg), check_yaml(opt.hyp), str(opt.weights), str(opt.project)  # checks\n",
            "  File \"/content/drive/MyDrive/yolov5/utils/general.py\", line 443, in check_file\n",
            "    assert len(files), f'File not found: {file}'  # assert file was found\n",
            "AssertionError: File not found: /content/drive/MyDrive/data/data.yaml\n"
          ]
        }
      ]
    }
  ]
}